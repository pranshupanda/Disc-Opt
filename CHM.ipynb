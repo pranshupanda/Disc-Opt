{
 "cells": [
  {
   "cell_type": "markdown",
   "id": "2fa7f9a0",
   "metadata": {},
   "source": [
    "The following is the implementation of all algorithms presented in the paper \"Fast Contiguous Somatic Hypermutations for Single-Objective Optimisation and\n",
    "Multi-Objective Optimisation Via Decomposition\" by Dogan Corus, Pietro S. Oliveto and Donya Yazdani"
   ]
  },
  {
   "cell_type": "code",
   "execution_count": null,
   "id": "4632d50c",
   "metadata": {},
   "outputs": [],
   "source": [
    "# Imports \n",
    "import numpy as np\n",
    "import matplotlib.pyplot as plt\n",
    "import random"
   ]
  },
  {
   "cell_type": "code",
   "execution_count": null,
   "id": "95fe9b9e",
   "metadata": {},
   "outputs": [],
   "source": [
    "# CHM\n",
    "# select a ∈ {0, ..., n-1}\n",
    "# select l ∈ {1, ..., n}\n",
    "# mutate each of l bits with probability r\n",
    "\n",
    "def chm(x, r):\n",
    "    n = len(x)\n",
    "    a = np.random.randint(0, n)         \n",
    "    l = np.random.randint(1, n + 1)     \n",
    "    \n",
    "    x_mutated = x.copy()\n",
    "    for i in range(l):                  \n",
    "        if np.random.rand() < r:\n",
    "            x_mutated[(a + i) % n] = 1 - x_mutated[(a + i) % n]\n",
    "              \n",
    "    return x_mutated\n"
   ]
  },
  {
   "cell_type": "code",
   "execution_count": null,
   "id": "b6838dca",
   "metadata": {},
   "outputs": [],
   "source": [
    "# test\n",
    "x = np.random.randint(0, 2, size=10)\n",
    "print(\"Original x:\", x)\n",
    "\n",
    "x_mutated = chm(x, r=0.5)\n",
    "print(\"Mutated x: \", x_mutated)\n"
   ]
  },
  {
   "cell_type": "code",
   "execution_count": null,
   "id": "4507cb74",
   "metadata": {},
   "outputs": [],
   "source": [
    "# visualize mutation\n",
    "def plot(x, r, steps):\n",
    "    list = [x]\n",
    "    for i in range(steps):\n",
    "        x = chm(x, r)\n",
    "        list.append(x)\n",
    "    plt.imshow(list, cmap='gray_r', aspect='auto')\n",
    "    plt.xlabel('Index')\n",
    "    plt.ylabel('Step')\n",
    "    plt.show()\n",
    "\n",
    "# Example\n",
    "x = np.random.randint(0, 2, 10)\n",
    "plot(x, 0.5, 10)\n",
    "\n"
   ]
  }
 ],
 "metadata": {
  "kernelspec": {
   "display_name": "base",
   "language": "python",
   "name": "python3"
  },
  "language_info": {
   "codemirror_mode": {
    "name": "ipython",
    "version": 3
   },
   "file_extension": ".py",
   "mimetype": "text/x-python",
   "name": "python",
   "nbconvert_exporter": "python",
   "pygments_lexer": "ipython3",
   "version": "3.10.9"
  }
 },
 "nbformat": 4,
 "nbformat_minor": 5
}
